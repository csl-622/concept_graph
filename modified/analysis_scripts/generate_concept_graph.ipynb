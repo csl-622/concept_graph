{
 "cells": [
  {
   "cell_type": "code",
   "execution_count": 25,
   "metadata": {},
   "outputs": [],
   "source": [
    "import networkx as nx\n",
    "import matplotlib.pyplot as plt\n",
    "import numpy as np\n",
    "import time\n",
    "start = time.clock()"
   ]
  },
  {
   "cell_type": "code",
   "execution_count": 26,
   "metadata": {},
   "outputs": [
    {
     "name": "stdout",
     "output_type": "stream",
     "text": [
      "Average count 32.857142857142854\n",
      "time taken so far: 0.0073670000000001234\n"
     ]
    }
   ],
   "source": [
    "E = []\n",
    "s = 0\n",
    "with open(\"graph.txt\", \"r\") as file:\n",
    "    for line in file:\n",
    "        L = line[:-1]\n",
    "        L = L.split('\\t')\n",
    "        if len(L) == 3:\n",
    "            E.append((int(L[0]),int(L[1]),int(L[2])))\n",
    "            s += int(L[2])\n",
    "        else:\n",
    "            break\n",
    "\n",
    "s /= len(E)\n",
    "print('Average count', s)\n",
    "print('time taken so far:', time.clock() - start)"
   ]
  },
  {
   "cell_type": "code",
   "execution_count": 27,
   "metadata": {},
   "outputs": [
    {
     "name": "stdout",
     "output_type": "stream",
     "text": [
      "nodes list created\n",
      "number of nodes 4\n",
      "time taken so far: 0.013922000000000212\n"
     ]
    }
   ],
   "source": [
    "Nodes = set()\n",
    "for i in E:\n",
    "    if i[2] < s:\n",
    "        break\n",
    "    Nodes.add(i[0])\n",
    "    Nodes.add(i[1])\n",
    "Nodes = list(Nodes)\n",
    "print('nodes list created')\n",
    "print('number of nodes', len(Nodes))\n",
    "print('time taken so far:', time.clock() - start)"
   ]
  },
  {
   "cell_type": "code",
   "execution_count": 28,
   "metadata": {},
   "outputs": [
    {
     "name": "stdout",
     "output_type": "stream",
     "text": [
      "nodes added\n",
      "edges added\n",
      "time taken so far: 0.021344999999999947\n"
     ]
    }
   ],
   "source": [
    "G = nx.DiGraph()\n",
    "G.add_nodes_from(Nodes)\n",
    "print('nodes added')\n",
    "for i in E:\n",
    "    if i[2] < s:\n",
    "        break\n",
    "    G.add_edge(i[0],i[1])\n",
    "print('edges added')\n",
    "print('time taken so far:', time.clock() - start)"
   ]
  },
  {
   "cell_type": "code",
   "execution_count": 29,
   "metadata": {},
   "outputs": [
    {
     "name": "stdout",
     "output_type": "stream",
     "text": [
      "time taken so far: 0.026443000000000216\n"
     ]
    }
   ],
   "source": [
    "nx.write_gpickle(G,\"concept_graph.gpickle\")\n",
    "print('time taken so far:', time.clock() - start)"
   ]
  },
  {
   "cell_type": "code",
   "execution_count": null,
   "metadata": {},
   "outputs": [],
   "source": []
  },
  {
   "cell_type": "code",
   "execution_count": null,
   "metadata": {},
   "outputs": [],
   "source": []
  }
 ],
 "metadata": {
  "kernelspec": {
   "display_name": "Python 3",
   "language": "python",
   "name": "python3"
  },
  "language_info": {
   "codemirror_mode": {
    "name": "ipython",
    "version": 3
   },
   "file_extension": ".py",
   "mimetype": "text/x-python",
   "name": "python",
   "nbconvert_exporter": "python",
   "pygments_lexer": "ipython3",
   "version": "3.5.2"
  }
 },
 "nbformat": 4,
 "nbformat_minor": 2
}
