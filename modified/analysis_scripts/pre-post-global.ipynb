{
 "cells": [
  {
   "cell_type": "code",
   "execution_count": 22,
   "metadata": {},
   "outputs": [
    {
     "name": "stderr",
     "output_type": "stream",
     "text": [
      "[nltk_data] Downloading package stopwords to /home/cslab/nltk_data...\n",
      "[nltk_data]   Unzipping corpora/stopwords.zip.\n"
     ]
    },
    {
     "data": {
      "text/plain": [
       "True"
      ]
     },
     "execution_count": 22,
     "metadata": {},
     "output_type": "execute_result"
    }
   ],
   "source": [
    "import networkx as nx\n",
    "import matplotlib.pyplot as plt\n",
    "import os\n",
    "import math\n",
    "from nltk.tokenize import RegexpTokenizer\n",
    "from nltk.stem import PorterStemmer\n",
    "from collections import Counter\n",
    "import pickle\n",
    "import nltk.data\n",
    "import errno\n",
    "from nltk.corpus import stopwords\n",
    "nltk.download('stopwords')"
   ]
  },
  {
   "cell_type": "code",
   "execution_count": 32,
   "metadata": {},
   "outputs": [],
   "source": [
    "def preProcessing(S):\n",
    "    ps = PorterStemmer()\n",
    "    stop_words = set(stopwords.words('english'))\n",
    "    tokenizer = RegexpTokenizer(r'[a-zA-Z]+')\n",
    "    line = tokenizer.tokenize(S)\n",
    "    if line != []:\n",
    "        L = []\n",
    "        for j in range(len(line)):\n",
    "            x = line[j].lower()\n",
    "            if x not in stop_words:\n",
    "                L.append(ps.stem(x))\n",
    "        L = ' '.join(L)\n",
    "        L += ' '\n",
    "    return L\n"
   ]
  },
  {
   "cell_type": "code",
   "execution_count": 14,
   "metadata": {},
   "outputs": [],
   "source": [
    "Dict = nx.read_gpickle('dict.pickle')\n",
    "\n",
    "Id2Word = {}\n",
    "\n",
    "for key, val in Dict.items():\n",
    "    Id2Word[val] = key"
   ]
  },
  {
   "cell_type": "code",
   "execution_count": 127,
   "metadata": {},
   "outputs": [],
   "source": [
    "G = nx.read_gpickle(os.path.join('pickles','concept_graph4.gpickle'))\n",
    "nodes_set = set(G.nodes())\n",
    "G = G.to_undirected()"
   ]
  },
  {
   "cell_type": "code",
   "execution_count": 128,
   "metadata": {},
   "outputs": [],
   "source": [
    "S = ''\n",
    "with open('article.txt','r') as file:\n",
    "    for line in file:\n",
    "        S += line\n",
    "S = preProcessing(S)\n",
    "S = S.split(' ')"
   ]
  },
  {
   "cell_type": "code",
   "execution_count": 129,
   "metadata": {},
   "outputs": [],
   "source": [
    "H = nx.Graph()\n",
    "D = dict()\n",
    "article_dict = dict()\n",
    "for i in S:\n",
    "    if i not in article_dict:\n",
    "        if i in Dict:\n",
    "            x = Dict[i]\n",
    "            if x in nodes_set:\n",
    "                article_dict[i] = x\n",
    "                H.add_node(x)\n",
    "                D[x] = (0,0,G.degree(x))"
   ]
  },
  {
   "cell_type": "code",
   "execution_count": 130,
   "metadata": {},
   "outputs": [],
   "source": [
    "N = list(H.nodes())\n",
    "for i in range(len(N)):\n",
    "    for j in range(i+1,len(N)):\n",
    "        if G.has_edge(N[i],N[j]) is True:\n",
    "            H.add_edge(N[i],N[j])"
   ]
  },
  {
   "cell_type": "code",
   "execution_count": 131,
   "metadata": {},
   "outputs": [],
   "source": [
    "curr_nodes_set = set()\n",
    "new_nodes_set = set(H.nodes())\n",
    "I = nx.Graph()\n",
    "for i in S:\n",
    "    if i in article_dict:\n",
    "        j = article_dict[i]\n",
    "        if j in new_nodes_set:\n",
    "            if j not in curr_nodes_set:\n",
    "                curr_nodes_set.add(j)\n",
    "                I.add_node(j)\n",
    "                for k in H.neighbors(j):\n",
    "                    if k in curr_nodes_set:\n",
    "                        I.add_edge(j,k)\n",
    "                D[j] = (I.degree(j),H.degree(j),D[j][2])"
   ]
  },
  {
   "cell_type": "code",
   "execution_count": 132,
   "metadata": {},
   "outputs": [],
   "source": [
    "X = []\n",
    "Y = []\n",
    "Z = []\n",
    "T = []\n",
    "c = 0\n",
    "for i,j in D.items():\n",
    "    c += 1\n",
    "    T.append(c)\n",
    "    X.append(j[0])\n",
    "    Y.append(j[1])\n",
    "    Z.append(j[2])"
   ]
  },
  {
   "cell_type": "code",
   "execution_count": 133,
   "metadata": {},
   "outputs": [
    {
     "name": "stdout",
     "output_type": "stream",
     "text": [
      "132 132 132 132\n"
     ]
    }
   ],
   "source": [
    "print(len(T),len(X),len(Y),len(Z))"
   ]
  },
  {
   "cell_type": "code",
   "execution_count": 134,
   "metadata": {},
   "outputs": [
    {
     "data": {
      "text/plain": [
       "[<matplotlib.lines.Line2D at 0x7f7f0867a240>]"
      ]
     },
     "execution_count": 134,
     "metadata": {},
     "output_type": "execute_result"
    },
    {
     "data": {
      "image/png": "[encoded data removed]",
      "text/plain": [
       "<Figure size 432x288 with 1 Axes>"
      ]
     },
     "metadata": {
      "needs_background": "light"
     },
     "output_type": "display_data"
    }
   ],
   "source": [
    "plt.plot(T,X,'g^')\n",
    "plt.plot(T,Y,'r^')"
   ]
  },
  {
   "cell_type": "code",
   "execution_count": 141,
   "metadata": {},
   "outputs": [
    {
     "data": {
      "text/plain": [
       "[<matplotlib.lines.Line2D at 0x7f7edde8f320>]"
      ]
     },
     "execution_count": 141,
     "metadata": {},
     "output_type": "execute_result"
    },
    {
     "data": {
      "image/png": "[encoded data removed]",
      "text/plain": [
       "<Figure size 432x288 with 1 Axes>"
      ]
     },
     "metadata": {
      "needs_background": "light"
     },
     "output_type": "display_data"
    }
   ],
   "source": [
    "plt.plot(T,sorted(Z),'k-')"
   ]
  },
  {
   "cell_type": "code",
   "execution_count": null,
   "metadata": {},
   "outputs": [],
   "source": []
  }
 ],
 "metadata": {
  "kernelspec": {
   "display_name": "Python 3",
   "language": "python",
   "name": "python3"
  },
  "language_info": {
   "codemirror_mode": {
    "name": "ipython",
    "version": 3
   },
   "file_extension": ".py",
   "mimetype": "text/x-python",
   "name": "python",
   "nbconvert_exporter": "python",
   "pygments_lexer": "ipython3",
   "version": "3.5.2"
  }
 },
 "nbformat": 4,
 "nbformat_minor": 2
}
